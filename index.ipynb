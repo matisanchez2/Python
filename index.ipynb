{
 "cells": [
  {
   "cell_type": "markdown",
   "metadata": {},
   "source": [
    "### Librerias"
   ]
  },
  {
   "cell_type": "code",
   "execution_count": 28,
   "metadata": {},
   "outputs": [],
   "source": [
    "import numpy as np\n",
    "import pandas as pd\n",
    "from fitter import Fitter, get_common_distributions, get_distributions\n",
    "import matplotlib.pyplot as plt"
   ]
  },
  {
   "attachments": {},
   "cell_type": "markdown",
   "metadata": {},
   "source": [
    "### Función Obtener Mejor Kpi"
   ]
  },
  {
   "cell_type": "code",
   "execution_count": 98,
   "metadata": {},
   "outputs": [],
   "source": [
    "data = np.random.chisquare(df=4, size=200)\n",
    "\n",
    "from scipy.stats import gamma, norm, lognorm, beta\n",
    "\n",
    "distribuciones_scipy = {\n",
    "    \"gamma\": gamma,\n",
    "    \"norm\": norm, \n",
    "    \"lognorm\": lognorm, \n",
    "    \"beta\": beta\n",
    "}\n",
    "\n",
    "def getKpi(data, percentiles=[0.95]):\n",
    "    f = Fitter(data,\n",
    "           distributions=['gamma',\n",
    "                          'lognorm',\n",
    "                          \"beta\",\n",
    "                          \"norm\"])\n",
    "    f.fit()\n",
    "    nombre_dist = f.get_best().popitem()[0]\n",
    "    params = f.fitted_param[nombre_dist]\n",
    "    distribucion = distribuciones_scipy[nombre_dist]\n",
    "    p = distribucion.isf(percentiles , *params)\n",
    "    return p \n"
   ]
  },
  {
   "cell_type": "code",
   "execution_count": 99,
   "metadata": {},
   "outputs": [
    {
     "name": "stderr",
     "output_type": "stream",
     "text": [
      "Fitting 4 distributions: 100%|██████████| 4/4 [00:00<00:00, 37.33it/s]\n"
     ]
    },
    {
     "data": {
      "text/plain": [
       "array([5.76300815])"
      ]
     },
     "execution_count": 99,
     "metadata": {},
     "output_type": "execute_result"
    }
   ],
   "source": [
    "getKpi(data, [0.2])"
   ]
  }
 ],
 "metadata": {
  "kernelspec": {
   "display_name": "base",
   "language": "python",
   "name": "python3"
  },
  "language_info": {
   "codemirror_mode": {
    "name": "ipython",
    "version": 3
   },
   "file_extension": ".py",
   "mimetype": "text/x-python",
   "name": "python",
   "nbconvert_exporter": "python",
   "pygments_lexer": "ipython3",
   "version": "3.9.13"
  },
  "orig_nbformat": 4,
  "vscode": {
   "interpreter": {
    "hash": "f40a629e953b2e97fc886ca541c719ad1985a43df759bec4df9fde0f4b367998"
   }
  }
 },
 "nbformat": 4,
 "nbformat_minor": 2
}
