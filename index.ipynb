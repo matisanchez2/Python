{
 "cells": [
  {
   "cell_type": "markdown",
   "metadata": {},
   "source": [
    "### Librerias"
   ]
  },
  {
   "cell_type": "code",
   "execution_count": 28,
   "metadata": {},
   "outputs": [],
   "source": [
    "import numpy as np\n",
    "import pandas as pd\n",
    "from fitter import Fitter, get_common_distributions, get_distributions\n",
    "import matplotlib.pyplot as plt"
   ]
  },
  {
   "attachments": {},
   "cell_type": "markdown",
   "metadata": {},
   "source": [
    "### Función "
   ]
  },
  {
   "cell_type": "code",
   "execution_count": 114,
   "metadata": {},
   "outputs": [],
   "source": [
    "from scipy.stats import gamma, norm, lognorm, beta, t, pareto, gompertz\n",
    "\n",
    "# Agregar más distribuciones: https://docs.scipy.org/doc/scipy/reference/stats.html\n",
    "distribuciones_scipy = {\n",
    "    \"gamma\": gamma,\n",
    "    \"norm\": norm, \n",
    "    \"lognorm\": lognorm, \n",
    "    \"beta\": beta,\n",
    "    \"t\": t,\n",
    "    \"pareto\":pareto,\n",
    "    \"gompertz\": gompertz\n",
    "}\n",
    "\n",
    "def percentil_meli(data, percentiles=[0.95]):\n",
    "    f = Fitter(data,\n",
    "           distributions=distribuciones_scipy)\n",
    "    f.fit()\n",
    "    nombre_dist = f.get_best().popitem()[0]\n",
    "    params = f.fitted_param[nombre_dist]\n",
    "    distribucion = distribuciones_scipy[nombre_dist]\n",
    "    print(f\"Calculo con la Distribución: {nombre_dist}\")\n",
    "    p = distribucion.isf(percentiles , *params)\n",
    "    return p \n"
   ]
  },
  {
   "cell_type": "markdown",
   "metadata": {},
   "source": [
    "### Ejemplo"
   ]
  },
  {
   "cell_type": "code",
   "execution_count": 115,
   "metadata": {},
   "outputs": [
    {
     "name": "stderr",
     "output_type": "stream",
     "text": [
      "Fitting 7 distributions: 100%|██████████| 7/7 [00:00<00:00, 22.84it/s]"
     ]
    },
    {
     "name": "stdout",
     "output_type": "stream",
     "text": [
      "Calculo con la Distribución: beta\n"
     ]
    },
    {
     "name": "stderr",
     "output_type": "stream",
     "text": [
      "\n"
     ]
    },
    {
     "data": {
      "text/plain": [
       "array([ 71.00447309, -75.29435932])"
      ]
     },
     "execution_count": 115,
     "metadata": {},
     "output_type": "execute_result"
    }
   ],
   "source": [
    "data = np.random.normal(0,32,300)\n",
    "percentil_meli(data, [0.01, 0.99])"
   ]
  }
 ],
 "metadata": {
  "kernelspec": {
   "display_name": "base",
   "language": "python",
   "name": "python3"
  },
  "language_info": {
   "codemirror_mode": {
    "name": "ipython",
    "version": 3
   },
   "file_extension": ".py",
   "mimetype": "text/x-python",
   "name": "python",
   "nbconvert_exporter": "python",
   "pygments_lexer": "ipython3",
   "version": "3.9.13"
  },
  "orig_nbformat": 4,
  "vscode": {
   "interpreter": {
    "hash": "f40a629e953b2e97fc886ca541c719ad1985a43df759bec4df9fde0f4b367998"
   }
  }
 },
 "nbformat": 4,
 "nbformat_minor": 2
}
